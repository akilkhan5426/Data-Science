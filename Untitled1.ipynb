{
 "cells": [
  {
   "cell_type": "code",
   "execution_count": 39,
   "id": "63122908-16f1-47b0-b85b-049979ab220c",
   "metadata": {},
   "outputs": [
    {
     "data": {
      "text/plain": [
       "['False',\n",
       " 'None',\n",
       " 'True',\n",
       " 'and',\n",
       " 'as',\n",
       " 'assert',\n",
       " 'async',\n",
       " 'await',\n",
       " 'break',\n",
       " 'class',\n",
       " 'continue',\n",
       " 'def',\n",
       " 'del',\n",
       " 'elif',\n",
       " 'else',\n",
       " 'except',\n",
       " 'finally',\n",
       " 'for',\n",
       " 'from',\n",
       " 'global',\n",
       " 'if',\n",
       " 'import',\n",
       " 'in',\n",
       " 'is',\n",
       " 'lambda',\n",
       " 'nonlocal',\n",
       " 'not',\n",
       " 'or',\n",
       " 'pass',\n",
       " 'raise',\n",
       " 'return',\n",
       " 'try',\n",
       " 'while',\n",
       " 'with',\n",
       " 'yield']"
      ]
     },
     "execution_count": 39,
     "metadata": {},
     "output_type": "execute_result"
    }
   ],
   "source": [
    "import keyword\n",
    "(keyword.kwlist)"
   ]
  },
  {
   "cell_type": "code",
   "execution_count": 3,
   "id": "a340ae19-ff30-4058-a779-5754e5efa7e9",
   "metadata": {},
   "outputs": [
    {
     "name": "stdout",
     "output_type": "stream",
     "text": [
      "hello world 4 this is python\n"
     ]
    }
   ],
   "source": [
    "print('hello world',2+2,'this is python',sep=\" \")"
   ]
  },
  {
   "cell_type": "code",
   "execution_count": 5,
   "id": "25238965-5ab1-4e87-80bf-6063ad0ccae4",
   "metadata": {},
   "outputs": [
    {
     "name": "stdout",
     "output_type": "stream",
     "text": [
      "hello world 4 this is python\n",
      "hello world*4*this is python\n",
      "hello world4this is python\n",
      "hello world 4 this is python\n"
     ]
    }
   ],
   "source": [
    "print('hello world',2+2,'this is python')\n",
    "print('hello world',2+2,'this is python',sep=\"*\")\n",
    "print('hello world',2+2,'this is python',sep='')\n",
    "print('hello world',2+2,'this is python',sep=\" \")"
   ]
  },
  {
   "cell_type": "code",
   "execution_count": 7,
   "id": "4908e1a2-c47f-46cd-b9c9-59201cdf01fd",
   "metadata": {},
   "outputs": [
    {
     "name": "stdout",
     "output_type": "stream",
     "text": [
      "hello world 4 this is python\n",
      "Apple\n",
      "\n",
      "\n",
      "hello world 4 this is python*Apple\n",
      "\n",
      "\n",
      "hello world 4 this is python\n",
      "Apple\n"
     ]
    }
   ],
   "source": [
    "print('hello world',2+2,'this is python')\n",
    "print('Apple')\n",
    "print('\\n')\n",
    "\n",
    "print('hello world',2+2,'this is python',end='*')\n",
    "print('Apple')\n",
    "print('\\n')\n",
    "\n",
    "print('hello world',2+2,'this is python',end='\\n')\n",
    "print('Apple')"
   ]
  },
  {
   "cell_type": "code",
   "execution_count": 11,
   "id": "ccd78bf9-bebe-41ce-9015-48070d468e83",
   "metadata": {},
   "outputs": [
    {
     "name": "stdout",
     "output_type": "stream",
     "text": [
      "Akil_Khan\n",
      "Akil_Khan\n"
     ]
    }
   ],
   "source": [
    "print('Akil','Khan',sep='_')\n",
    "print('Akil',end='_')\n",
    "print('Khan')"
   ]
  },
  {
   "cell_type": "code",
   "execution_count": 12,
   "id": "6e403fef-5771-433f-81b1-0d4ea4a935e2",
   "metadata": {},
   "outputs": [
    {
     "name": "stdout",
     "output_type": "stream",
     "text": [
      "<class 'complex'>\n"
     ]
    }
   ],
   "source": [
    "c = 3.098j\n",
    "print(type(c))"
   ]
  },
  {
   "cell_type": "code",
   "execution_count": 14,
   "id": "30b30b5e-68d5-4cc3-a8a0-b531b1011218",
   "metadata": {},
   "outputs": [
    {
     "name": "stdout",
     "output_type": "stream",
     "text": [
      "range(0, 5)\n",
      "<class 'range'>\n"
     ]
    }
   ],
   "source": [
    "r1 = range(0,5)\n",
    "print(r1)\n",
    "print(type(r1))"
   ]
  },
  {
   "cell_type": "code",
   "execution_count": 30,
   "id": "1cdf13ed-2706-4429-b85e-5a88b1a12907",
   "metadata": {},
   "outputs": [
    {
     "name": "stdout",
     "output_type": "stream",
     "text": [
      "[1, 4, 2, 'apple', 67]\n"
     ]
    }
   ],
   "source": [
    "l1 = [1,4,2,'apple',67]\n",
    "print(l1)"
   ]
  },
  {
   "cell_type": "markdown",
   "id": "88bd90e3-dba4-4e2c-9996-39062c551766",
   "metadata": {},
   "source": [
    "append\n",
    "extend\n",
    "insert\n",
    "remove\n",
    "delete"
   ]
  },
  {
   "cell_type": "code",
   "execution_count": 31,
   "id": "4df28d71-5e99-4e32-97b0-115474039f54",
   "metadata": {},
   "outputs": [
    {
     "name": "stdout",
     "output_type": "stream",
     "text": [
      "[1, 4, 2, 'apple', 67, 'append']\n"
     ]
    }
   ],
   "source": [
    "l1.append('append')\n",
    "print(l1)"
   ]
  },
  {
   "cell_type": "code",
   "execution_count": 32,
   "id": "75025977-278c-4172-afa2-127eb2c5ec4a",
   "metadata": {},
   "outputs": [],
   "source": [
    "l1.extend('extend')"
   ]
  },
  {
   "cell_type": "code",
   "execution_count": 33,
   "id": "64e173c4-4447-48c9-932a-7dcaa1544cdd",
   "metadata": {},
   "outputs": [
    {
     "name": "stdout",
     "output_type": "stream",
     "text": [
      "[1, 4, 2, 'apple', 67, 'append', 'e', 'x', 't', 'e', 'n', 'd']\n"
     ]
    }
   ],
   "source": [
    "print(l1)"
   ]
  },
  {
   "cell_type": "code",
   "execution_count": 34,
   "id": "e86872ab-816c-4b1b-8484-a90d56328b10",
   "metadata": {},
   "outputs": [
    {
     "name": "stdout",
     "output_type": "stream",
     "text": [
      "[1, 4, 'apple', 67, 'append', 'e', 'x', 't', 'e', 'n', 'd']\n"
     ]
    }
   ],
   "source": [
    "l1.remove(2)\n",
    "print(l1)"
   ]
  },
  {
   "cell_type": "code",
   "execution_count": 35,
   "id": "6bf32695-379f-4472-9917-1328116b80ad",
   "metadata": {},
   "outputs": [
    {
     "name": "stdout",
     "output_type": "stream",
     "text": [
      "[1, 4, 'insert', 'apple', 67, 'append', 'e', 'x', 't', 'e', 'n', 'd']\n"
     ]
    }
   ],
   "source": [
    "l1.insert(2,'insert')\n",
    "print(l1)"
   ]
  },
  {
   "cell_type": "code",
   "execution_count": 38,
   "id": "14d3cb94-05ad-4e7a-aae5-6cc46705440e",
   "metadata": {},
   "outputs": [
    {
     "name": "stdout",
     "output_type": "stream",
     "text": [
      "[1, 4, 'insert', 'apple', 67, 'append', 'e', 'x', 't', 'e', 'n']\n"
     ]
    }
   ],
   "source": [
    "l1.pop()\n",
    "print(l1)"
   ]
  },
  {
   "cell_type": "code",
   "execution_count": 42,
   "id": "f1bbb987-599d-4264-95d1-6871751dfc79",
   "metadata": {},
   "outputs": [
    {
     "name": "stdout",
     "output_type": "stream",
     "text": [
      "[1, 'insert', 'apple', 67, 'append', 'e', 'x', 't', 'e', 'n']\n"
     ]
    }
   ],
   "source": [
    "del l1[1]\n",
    "print(l1)"
   ]
  },
  {
   "cell_type": "code",
   "execution_count": 43,
   "id": "38bb2624-97fc-48fd-bc9d-12100ab6831f",
   "metadata": {},
   "outputs": [
    {
     "name": "stdout",
     "output_type": "stream",
     "text": [
      "{'a': [1, 2, 3, 4], 'b': [2, 1, 3, 45], 'c': 'Apple'}\n"
     ]
    }
   ],
   "source": [
    "d1 = { 'a':[1,2,3,4], 'b': [2,1,3,45], 'c': 'Apple'}\n",
    "print(d1)"
   ]
  },
  {
   "cell_type": "code",
   "execution_count": 45,
   "id": "dedd6d2f-f48e-49de-b8e0-312c19a47e40",
   "metadata": {},
   "outputs": [
    {
     "data": {
      "text/plain": [
       "float"
      ]
     },
     "execution_count": 45,
     "metadata": {},
     "output_type": "execute_result"
    }
   ],
   "source": [
    "type(6/2)"
   ]
  },
  {
   "cell_type": "code",
   "execution_count": 46,
   "id": "05c3593e-7bea-4b87-920a-f2c40a144e9a",
   "metadata": {},
   "outputs": [
    {
     "name": "stdout",
     "output_type": "stream",
     "text": [
      "12\n",
      "61\n",
      "49\n",
      "-61\n",
      "240\n",
      "15\n"
     ]
    }
   ],
   "source": [
    "a = 60\n",
    "b = 13\n",
    "print(a&b)\n",
    "print(a|b)\n",
    "print(a^b)\n",
    "print(~a)\n",
    "print(a<<2)\n",
    "print(a>>2)"
   ]
  },
  {
   "cell_type": "code",
   "execution_count": 47,
   "id": "19f91d2f-4493-4466-80e9-c8ba4de4daf9",
   "metadata": {},
   "outputs": [
    {
     "name": "stdout",
     "output_type": "stream",
     "text": [
      "60 13\n"
     ]
    }
   ],
   "source": [
    "print(a,b)"
   ]
  },
  {
   "cell_type": "code",
   "execution_count": 48,
   "id": "3fa49e1f-b283-4d99-a8a0-46c43eeebeb5",
   "metadata": {},
   "outputs": [
    {
     "name": "stdout",
     "output_type": "stream",
     "text": [
      "78\n",
      "-79\n"
     ]
    }
   ],
   "source": [
    "print(78|12)\n",
    "print(~78)"
   ]
  },
  {
   "cell_type": "code",
   "execution_count": 52,
   "id": "52b3911c-216b-412c-b405-b4f92005c7a9",
   "metadata": {},
   "outputs": [
    {
     "name": "stdin",
     "output_type": "stream",
     "text": [
      "Enter length: 4\n",
      "Enter breadth: 3\n"
     ]
    },
    {
     "name": "stdout",
     "output_type": "stream",
     "text": [
      "12.0\n"
     ]
    }
   ],
   "source": [
    "l = float(input(\"Enter length:\"))\n",
    "b = float(input(\"Enter breadth:\"))\n",
    "area = l*b\n",
    "print(area)"
   ]
  },
  {
   "cell_type": "code",
   "execution_count": 54,
   "id": "58052699-1a5b-4884-b6de-cd941d838a6a",
   "metadata": {},
   "outputs": [
    {
     "name": "stdout",
     "output_type": "stream",
     "text": [
      "1\n",
      "3\n"
     ]
    }
   ],
   "source": [
    "num1 = 10\n",
    "num2 = 3\n",
    "\n",
    "rem = num1 % num2\n",
    "quo = num1 // num2\n",
    "\n",
    "print(rem)\n",
    "print(quo)"
   ]
  },
  {
   "cell_type": "code",
   "execution_count": 56,
   "id": "67a78538-2d81-42ee-84d6-a8f816798c52",
   "metadata": {},
   "outputs": [
    {
     "name": "stdin",
     "output_type": "stream",
     "text": [
      "Enter name: akil\n",
      "Enter age: 20\n"
     ]
    },
    {
     "name": "stdout",
     "output_type": "stream",
     "text": [
      "Hello akil Your age next year will be 20 years\n"
     ]
    }
   ],
   "source": [
    "name = input('Enter name:')\n",
    "age = int(input('Enter age:'))\n",
    "\n",
    "print('Hello', name, 'Your age next year will be', age, 'years')"
   ]
  },
  {
   "cell_type": "code",
   "execution_count": 61,
   "id": "66eaf38d-cf98-419d-9e36-91b618560996",
   "metadata": {},
   "outputs": [
    {
     "name": "stdin",
     "output_type": "stream",
     "text": [
      "Enter num1: 10\n",
      "Enter num2: 2\n",
      "Enter operator: +\n"
     ]
    },
    {
     "name": "stdout",
     "output_type": "stream",
     "text": [
      "12.0\n"
     ]
    }
   ],
   "source": [
    "def add(x,y):\n",
    "    return x+y\n",
    "\n",
    "def sub(x,y):\n",
    "    return x-y\n",
    "\n",
    "def mul(x,y):\n",
    "    return x*y\n",
    "\n",
    "def div(x,y):\n",
    "    return x/y\n",
    "\n",
    "x = float(input('Enter num1:'))\n",
    "y = float(input('Enter num2:'))\n",
    "\n",
    "op = input('Enter operator:')\n",
    "\n",
    "match op:\n",
    "    case '+':\n",
    "        print(add(x,y))\n",
    "    case '-':\n",
    "        print(sub(x,y))\n",
    "    case '*':\n",
    "        print(mul(x,y))\n",
    "    case '/':\n",
    "        print(div(x,y))\n",
    "\n",
    "\n",
    "\n"
   ]
  },
  {
   "cell_type": "code",
   "execution_count": null,
   "id": "22c247ff-5e93-4125-9f89-eca6395a1540",
   "metadata": {},
   "outputs": [],
   "source": []
  }
 ],
 "metadata": {
  "kernelspec": {
   "display_name": "Python 3 (ipykernel)",
   "language": "python",
   "name": "python3"
  },
  "language_info": {
   "codemirror_mode": {
    "name": "ipython",
    "version": 3
   },
   "file_extension": ".py",
   "mimetype": "text/x-python",
   "name": "python",
   "nbconvert_exporter": "python",
   "pygments_lexer": "ipython3",
   "version": "3.12.4"
  }
 },
 "nbformat": 4,
 "nbformat_minor": 5
}
