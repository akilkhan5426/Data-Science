{
 "cells": [
  {
   "cell_type": "code",
   "execution_count": 2,
   "id": "8f62563a-6f9f-40e1-9ae1-b7703b99c1b3",
   "metadata": {},
   "outputs": [
    {
     "name": "stdin",
     "output_type": "stream",
     "text": [
      "How many numbers do you wanna enter? 5\n",
      "enter number 1: 12\n",
      "enter number 2: 12\n",
      "enter number 3: 1233\n",
      "enter number 4: 334\n",
      "enter number 5: 22\n"
     ]
    },
    {
     "name": "stdout",
     "output_type": "stream",
     "text": [
      "1233\n"
     ]
    }
   ],
   "source": [
    "list = []\n",
    "n = int(input(\"How many numbers do you wanna enter?\"))\n",
    "for i in range(n):\n",
    "    num = int(input(f\"enter number {i+1}:\"))\n",
    "    list.append(num)\n",
    "for i in list:\n",
    "    if(i>50):\n",
    "        print(i)\n",
    "        break"
   ]
  },
  {
   "cell_type": "code",
   "execution_count": 3,
   "id": "c3628df8-8f48-4ea4-82aa-09b344898427",
   "metadata": {},
   "outputs": [
    {
     "name": "stdin",
     "output_type": "stream",
     "text": [
      "Enter password: ajjsh\n"
     ]
    },
    {
     "name": "stdout",
     "output_type": "stream",
     "text": [
      "Login unsuccessful\n"
     ]
    }
   ],
   "source": [
    "# Program 1\n",
    "password = input(\"Enter password:\")\n",
    "if(password=='secret'):\n",
    "    print(\"Login is successful\")\n",
    "else:\n",
    "    print(\"Login unsuccessful\")   "
   ]
  },
  {
   "cell_type": "code",
   "execution_count": 4,
   "id": "f9f1f656-5a66-4cf5-bb6b-ca2c3fc3882d",
   "metadata": {},
   "outputs": [
    {
     "name": "stdin",
     "output_type": "stream",
     "text": [
      "Enter password: akjs\n"
     ]
    },
    {
     "name": "stdout",
     "output_type": "stream",
     "text": [
      "Login unsuccessful\n"
     ]
    },
    {
     "name": "stdin",
     "output_type": "stream",
     "text": [
      "Enter password: shd\n"
     ]
    },
    {
     "name": "stdout",
     "output_type": "stream",
     "text": [
      "Login unsuccessful\n"
     ]
    },
    {
     "name": "stdin",
     "output_type": "stream",
     "text": [
      "Enter password: jsh\n"
     ]
    },
    {
     "name": "stdout",
     "output_type": "stream",
     "text": [
      "Login unsuccessful\n"
     ]
    },
    {
     "name": "stdin",
     "output_type": "stream",
     "text": [
      "Enter password: shd\n"
     ]
    },
    {
     "name": "stdout",
     "output_type": "stream",
     "text": [
      "Login unsuccessful\n"
     ]
    },
    {
     "name": "stdin",
     "output_type": "stream",
     "text": [
      "Enter password: secret\n"
     ]
    },
    {
     "name": "stdout",
     "output_type": "stream",
     "text": [
      "Login is successful\n"
     ]
    }
   ],
   "source": [
    "# Program 2\n",
    "while(True):\n",
    "    password = input(\"Enter password:\")\n",
    "    if(password=='secret'):\n",
    "        print(\"Login is successful\")\n",
    "        break;\n",
    "    else:\n",
    "        print(\"Login unsuccessful\") "
   ]
  },
  {
   "cell_type": "code",
   "execution_count": 5,
   "id": "6c8da886-65dc-4e9c-aa68-1eb860b3d572",
   "metadata": {},
   "outputs": [
    {
     "name": "stdin",
     "output_type": "stream",
     "text": [
      "Enter password: askjs\n"
     ]
    },
    {
     "name": "stdout",
     "output_type": "stream",
     "text": [
      "Login unsuccessful\n"
     ]
    },
    {
     "name": "stdin",
     "output_type": "stream",
     "text": [
      "Enter password: sd\n"
     ]
    },
    {
     "name": "stdout",
     "output_type": "stream",
     "text": [
      "Login unsuccessful\n"
     ]
    },
    {
     "name": "stdin",
     "output_type": "stream",
     "text": [
      "Enter password: sdf\n"
     ]
    },
    {
     "name": "stdout",
     "output_type": "stream",
     "text": [
      "Login unsuccessful\n",
      "More than 3 wrong attempts, Account blocked\n"
     ]
    }
   ],
   "source": [
    "# Program 3\n",
    "count = 0\n",
    "while(True):\n",
    "    count += 1\n",
    "    password = input(\"Enter password:\")\n",
    "    if(password=='secret'):\n",
    "        print(\"Login is successful\")\n",
    "        break;\n",
    "    else:\n",
    "        print(\"Login unsuccessful\") \n",
    "        if(count==3):\n",
    "            print(\"More than 3 wrong attempts, Account blocked\")\n",
    "            break;"
   ]
  },
  {
   "cell_type": "code",
   "execution_count": 6,
   "id": "e7092ce4-9801-45cd-b070-0d840478ca6c",
   "metadata": {},
   "outputs": [
    {
     "name": "stdin",
     "output_type": "stream",
     "text": [
      "Enter list of integers separated by space:  2 1 3 2 23  3 443  2 2 3\n"
     ]
    },
    {
     "name": "stdout",
     "output_type": "stream",
     "text": [
      "2\n",
      "<class 'str'>\n",
      "1\n",
      "<class 'str'>\n",
      "3\n",
      "<class 'str'>\n",
      "2\n",
      "<class 'str'>\n",
      "23\n",
      "<class 'str'>\n",
      "3\n",
      "<class 'str'>\n",
      "443\n",
      "<class 'str'>\n",
      "2\n",
      "<class 'str'>\n",
      "2\n",
      "<class 'str'>\n",
      "3\n",
      "<class 'str'>\n"
     ]
    }
   ],
   "source": [
    "numbers = input(\"Enter list of integers separated by space: \")\n",
    "numbers = numbers.split()\n",
    "for i in numbers:\n",
    "    print(i)\n",
    "    print(type(i))"
   ]
  },
  {
   "cell_type": "code",
   "execution_count": 7,
   "id": "4f51c3ec-cac8-4f86-8765-64e1a109d79c",
   "metadata": {},
   "outputs": [
    {
     "name": "stdin",
     "output_type": "stream",
     "text": [
      "Enter list of integers separated by space:  23  3 4  1  2 3  3\n"
     ]
    },
    {
     "name": "stdout",
     "output_type": "stream",
     "text": [
      "23\n",
      "3\n",
      "4\n",
      "1\n",
      "2\n",
      "3\n",
      "3\n"
     ]
    }
   ],
   "source": [
    "numbers = input(\"Enter list of integers separated by space: \")\n",
    "numbers = numbers.split()\n",
    "for i in numbers:\n",
    "    if(int(i) < 0):\n",
    "        break\n",
    "    print(i)\n",
    "    # print(type(i))"
   ]
  },
  {
   "cell_type": "code",
   "execution_count": 8,
   "id": "d49b7759-0769-4854-9176-24cec0f1cf7c",
   "metadata": {},
   "outputs": [
    {
     "name": "stdin",
     "output_type": "stream",
     "text": [
      "Enter list of integers separated by space:  23 12 23 2   -12 112\n"
     ]
    },
    {
     "name": "stdout",
     "output_type": "stream",
     "text": [
      "60\n"
     ]
    }
   ],
   "source": [
    "# Positive sum printer \n",
    "numbers = input(\"Enter list of integers separated by space: \")\n",
    "numbers = numbers.split()\n",
    "sum = 0\n",
    "for i in numbers:\n",
    "    if(int(i) < 0):\n",
    "        break\n",
    "    sum += int(i)\n",
    "print(sum)"
   ]
  },
  {
   "cell_type": "code",
   "execution_count": 9,
   "id": "65dd9ec8-2879-48fe-babd-a3a4f3f76314",
   "metadata": {},
   "outputs": [
    {
     "name": "stdout",
     "output_type": "stream",
     "text": [
      "2\n",
      "4\n",
      "6\n",
      "8\n",
      "10\n"
     ]
    }
   ],
   "source": [
    "# even nuber printer\n",
    "numbers = [1,2,3,4,5,6,7,8,9,10]\n",
    "for i in numbers:\n",
    "    if(i%2 != 0):\n",
    "        continue\n",
    "    print(i)"
   ]
  },
  {
   "cell_type": "code",
   "execution_count": 10,
   "id": "f9bd9a32-721a-4688-bae5-925ecba9e004",
   "metadata": {},
   "outputs": [
    {
     "name": "stdout",
     "output_type": "stream",
     "text": [
      "Without using continue!\n",
      "1\n",
      "2\n",
      "3\n",
      "4\n",
      "34\n",
      "6\n",
      "7\n",
      "8\n",
      "9\n",
      "10\n",
      "Using continue!\n",
      "1\n",
      "2\n",
      "3\n",
      "4\n",
      "34\n",
      "6\n",
      "7\n",
      "8\n",
      "9\n",
      "10\n"
     ]
    }
   ],
   "source": [
    "# Positive number printer\n",
    "numbers = [1,2,3,4,-5,34,-34,6,7,8,9,10]\n",
    "print(\"Without using continue!\")\n",
    "for i in numbers:\n",
    "    if(i < 0):\n",
    "        continue\n",
    "    print(i)\n",
    "print(\"Using continue!\")\n",
    "for i in numbers:\n",
    "    if(i >= 0):\n",
    "        print(i)"
   ]
  },
  {
   "cell_type": "code",
   "execution_count": null,
   "id": "771c8584-0119-4dc8-880a-0e483c3b3cda",
   "metadata": {},
   "outputs": [],
   "source": []
  }
 ],
 "metadata": {
  "kernelspec": {
   "display_name": "Python 3 (ipykernel)",
   "language": "python",
   "name": "python3"
  },
  "language_info": {
   "codemirror_mode": {
    "name": "ipython",
    "version": 3
   },
   "file_extension": ".py",
   "mimetype": "text/x-python",
   "name": "python",
   "nbconvert_exporter": "python",
   "pygments_lexer": "ipython3",
   "version": "3.12.4"
  }
 },
 "nbformat": 4,
 "nbformat_minor": 5
}
