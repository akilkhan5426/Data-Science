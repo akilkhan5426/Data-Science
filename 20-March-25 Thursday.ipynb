{
 "cells": [
  {
   "cell_type": "code",
   "execution_count": 1,
   "id": "5dd16486-3424-4b86-a5a5-e240580dc23a",
   "metadata": {},
   "outputs": [],
   "source": [
    "import numpy as np"
   ]
  },
  {
   "cell_type": "code",
   "execution_count": 3,
   "id": "095e1a3b-4745-4362-b09a-0890be1f1d27",
   "metadata": {},
   "outputs": [
    {
     "data": {
      "text/plain": [
       "array([ 4, 11,  8,  4, 10])"
      ]
     },
     "execution_count": 3,
     "metadata": {},
     "output_type": "execute_result"
    }
   ],
   "source": [
    "list1 = [1,2,4,2,5]\n",
    "list2 = [3,9,4,2,5]\n",
    "np.array(list1)+np.array(list2)"
   ]
  },
  {
   "cell_type": "code",
   "execution_count": 4,
   "id": "a61f7a03-d832-4c62-bdbd-5ca662a7b0ad",
   "metadata": {},
   "outputs": [],
   "source": [
    "arr_str = ['Meercedes',6,'Audi','Ferrari','Tesla']\n",
    "arr_num = (5,4,6,3,7)"
   ]
  },
  {
   "cell_type": "code",
   "execution_count": 5,
   "id": "679ca9ba-db97-4777-a63c-e929cc547097",
   "metadata": {},
   "outputs": [
    {
     "name": "stdout",
     "output_type": "stream",
     "text": [
      "<class 'list'>\n",
      "<class 'tuple'>\n"
     ]
    }
   ],
   "source": [
    "print(type(arr_str))\n",
    "print(type(arr_num))"
   ]
  },
  {
   "cell_type": "code",
   "execution_count": 6,
   "id": "6fb6b35b-31fc-475a-82ab-280035b8ef83",
   "metadata": {},
   "outputs": [],
   "source": [
    "np_arr_str = np.array(arr_str)\n",
    "np_arr_num = np.array(arr_num)"
   ]
  },
  {
   "cell_type": "code",
   "execution_count": 7,
   "id": "1ad1eec6-9754-49c8-a9f5-8d1392a200c1",
   "metadata": {},
   "outputs": [
    {
     "name": "stdout",
     "output_type": "stream",
     "text": [
      "<class 'numpy.ndarray'>\n",
      "<class 'numpy.ndarray'>\n"
     ]
    }
   ],
   "source": [
    "print(type(np_arr_str))\n",
    "print(type(np_arr_num))"
   ]
  },
  {
   "cell_type": "code",
   "execution_count": 8,
   "id": "1f9bd9c0-b04d-474d-8625-65671c999aad",
   "metadata": {},
   "outputs": [
    {
     "data": {
      "text/plain": [
       "array([[1, 2],\n",
       "       [3, 4],\n",
       "       [5, 6]])"
      ]
     },
     "execution_count": 8,
     "metadata": {},
     "output_type": "execute_result"
    }
   ],
   "source": [
    "matrix1 = np.array([(1,2),[3,4],(5,6)])\n",
    "matrix1"
   ]
  },
  {
   "cell_type": "code",
   "execution_count": 9,
   "id": "e22eb31e-3cb5-4838-b5e7-a906603297b0",
   "metadata": {},
   "outputs": [
    {
     "data": {
      "text/plain": [
       "numpy.ndarray"
      ]
     },
     "execution_count": 9,
     "metadata": {},
     "output_type": "execute_result"
    }
   ],
   "source": [
    "type(matrix1)"
   ]
  },
  {
   "cell_type": "code",
   "execution_count": 10,
   "id": "1b43fa71-b494-4a9d-8332-0e37d12e4215",
   "metadata": {},
   "outputs": [
    {
     "data": {
      "text/plain": [
       "(3, 2)"
      ]
     },
     "execution_count": 10,
     "metadata": {},
     "output_type": "execute_result"
    }
   ],
   "source": [
    "matrix1.shape"
   ]
  },
  {
   "cell_type": "code",
   "execution_count": 14,
   "id": "0e3190a0-1efb-4b94-9526-2b7cab12cb3b",
   "metadata": {},
   "outputs": [
    {
     "data": {
      "text/plain": [
       "array([0, 3, 6, 9])"
      ]
     },
     "execution_count": 14,
     "metadata": {},
     "output_type": "execute_result"
    }
   ],
   "source": [
    "arr2 = np.arange(0,10,3)\n",
    "arr2"
   ]
  },
  {
   "cell_type": "code",
   "execution_count": 16,
   "id": "02cebc40-6b11-4177-88a0-3803bdc6a9b4",
   "metadata": {},
   "outputs": [
    {
     "data": {
      "text/plain": [
       "array([ 0.        ,  0.83333333,  1.66666667,  2.5       ,  3.33333333,\n",
       "        4.16666667,  5.        ,  5.83333333,  6.66666667,  7.5       ,\n",
       "        8.33333333,  9.16666667, 10.        ])"
      ]
     },
     "execution_count": 16,
     "metadata": {},
     "output_type": "execute_result"
    }
   ],
   "source": [
    "matrix2 = np.linspace(0,10,13)\n",
    "matrix2"
   ]
  },
  {
   "cell_type": "code",
   "execution_count": 17,
   "id": "f2167796-0c98-4ae2-b6ff-dfcef474554d",
   "metadata": {},
   "outputs": [
    {
     "data": {
      "text/plain": [
       "array([11., 12., 13., 14., 15., 16., 17., 18., 19., 20.])"
      ]
     },
     "execution_count": 17,
     "metadata": {},
     "output_type": "execute_result"
    }
   ],
   "source": [
    "matrix3 = np.linspace(11,20,10)\n",
    "matrix3"
   ]
  },
  {
   "cell_type": "code",
   "execution_count": 19,
   "id": "3e5fb5b2-3e8a-4016-bbe9-ebf55cd93a2a",
   "metadata": {},
   "outputs": [
    {
     "data": {
      "text/plain": [
       "array([[0., 0., 0.],\n",
       "       [0., 0., 0.],\n",
       "       [0., 0., 0.],\n",
       "       [0., 0., 0.],\n",
       "       [0., 0., 0.]])"
      ]
     },
     "execution_count": 19,
     "metadata": {},
     "output_type": "execute_result"
    }
   ],
   "source": [
    "matrix4 = np.zeros([5,3])\n",
    "matrix4"
   ]
  },
  {
   "cell_type": "code",
   "execution_count": 21,
   "id": "dc162eec-6595-4608-8ed5-e7ddc75ef64a",
   "metadata": {},
   "outputs": [
    {
     "data": {
      "text/plain": [
       "array([[1., 1., 1.],\n",
       "       [1., 1., 1.],\n",
       "       [1., 1., 1.],\n",
       "       [1., 1., 1.],\n",
       "       [1., 1., 1.]])"
      ]
     },
     "execution_count": 21,
     "metadata": {},
     "output_type": "execute_result"
    }
   ],
   "source": [
    "matrix5 = np.ones([5,3])\n",
    "matrix5"
   ]
  },
  {
   "cell_type": "code",
   "execution_count": 22,
   "id": "09aba01f-f9cf-471c-8a3f-3b02dde93c84",
   "metadata": {},
   "outputs": [
    {
     "data": {
      "text/plain": [
       "array([ 0,  1,  2,  3,  4,  5,  6,  7,  8,  9, 10, 11, 12, 13, 14, 15, 16,\n",
       "       17, 18, 19, 20, 21, 22, 23, 24, 25, 26, 27, 28, 29, 30, 31])"
      ]
     },
     "execution_count": 22,
     "metadata": {},
     "output_type": "execute_result"
    }
   ],
   "source": [
    "arr3 = np.arange(0,32)\n",
    "arr3"
   ]
  },
  {
   "cell_type": "code",
   "execution_count": 23,
   "id": "d7b5fc9a-8d10-4708-85ea-9b7a3e377c0d",
   "metadata": {},
   "outputs": [
    {
     "data": {
      "text/plain": [
       "(32,)"
      ]
     },
     "execution_count": 23,
     "metadata": {},
     "output_type": "execute_result"
    }
   ],
   "source": [
    "arr3.shape"
   ]
  },
  {
   "cell_type": "code",
   "execution_count": 36,
   "id": "1e24574b-4628-4338-873a-6ca950298bae",
   "metadata": {},
   "outputs": [
    {
     "name": "stdout",
     "output_type": "stream",
     "text": [
      "(1, 32)\n",
      "[[ 0  1  2  3  4  5  6  7  8  9 10 11 12 13 14 15 16 17 18 19 20 21 22 23\n",
      "  24 25 26 27 28 29 30 31]]\n"
     ]
    }
   ],
   "source": [
    "arr3 = arr3.reshape(1,32)\n",
    "print(arr3.shape)\n",
    "print(arr3)"
   ]
  },
  {
   "cell_type": "code",
   "execution_count": 37,
   "id": "2b882519-baed-4efc-9155-b2abd8c4b134",
   "metadata": {},
   "outputs": [
    {
     "name": "stdout",
     "output_type": "stream",
     "text": [
      "(2, 16)\n",
      "[[ 0  1  2  3  4  5  6  7  8  9 10 11 12 13 14 15]\n",
      " [16 17 18 19 20 21 22 23 24 25 26 27 28 29 30 31]]\n"
     ]
    }
   ],
   "source": [
    "arr3 = arr3.reshape(2,16)\n",
    "print(arr3.shape)\n",
    "print(arr3)"
   ]
  },
  {
   "cell_type": "code",
   "execution_count": 38,
   "id": "8d53e835-6a88-4415-aab9-4cbe44ca18e2",
   "metadata": {},
   "outputs": [
    {
     "name": "stdout",
     "output_type": "stream",
     "text": [
      "(4, 8)\n",
      "[[ 0  1  2  3  4  5  6  7]\n",
      " [ 8  9 10 11 12 13 14 15]\n",
      " [16 17 18 19 20 21 22 23]\n",
      " [24 25 26 27 28 29 30 31]]\n"
     ]
    }
   ],
   "source": [
    "arr3 = arr3.reshape(4,8)\n",
    "print(arr3.shape)\n",
    "print(arr3)"
   ]
  },
  {
   "cell_type": "code",
   "execution_count": 39,
   "id": "6445bbfb-940f-48eb-b997-f9a12ed74005",
   "metadata": {},
   "outputs": [
    {
     "name": "stdout",
     "output_type": "stream",
     "text": [
      "(8, 4)\n",
      "[[ 0  1  2  3]\n",
      " [ 4  5  6  7]\n",
      " [ 8  9 10 11]\n",
      " [12 13 14 15]\n",
      " [16 17 18 19]\n",
      " [20 21 22 23]\n",
      " [24 25 26 27]\n",
      " [28 29 30 31]]\n"
     ]
    }
   ],
   "source": [
    "arr3 = arr3.reshape(8,4)\n",
    "print(arr3.shape)\n",
    "print(arr3)"
   ]
  },
  {
   "cell_type": "code",
   "execution_count": 40,
   "id": "1190fc5d-04ec-4788-af66-1672e667c1b1",
   "metadata": {},
   "outputs": [
    {
     "name": "stdout",
     "output_type": "stream",
     "text": [
      "(16, 2)\n",
      "[[ 0  1]\n",
      " [ 2  3]\n",
      " [ 4  5]\n",
      " [ 6  7]\n",
      " [ 8  9]\n",
      " [10 11]\n",
      " [12 13]\n",
      " [14 15]\n",
      " [16 17]\n",
      " [18 19]\n",
      " [20 21]\n",
      " [22 23]\n",
      " [24 25]\n",
      " [26 27]\n",
      " [28 29]\n",
      " [30 31]]\n"
     ]
    }
   ],
   "source": [
    "arr3 = arr3.reshape(16,2)\n",
    "print(arr3.shape)\n",
    "print(arr3)"
   ]
  },
  {
   "cell_type": "code",
   "execution_count": 41,
   "id": "c05edb84-03be-455e-8056-f85bff4f8c8f",
   "metadata": {},
   "outputs": [
    {
     "name": "stdout",
     "output_type": "stream",
     "text": [
      "(32, 1)\n",
      "[[ 0]\n",
      " [ 1]\n",
      " [ 2]\n",
      " [ 3]\n",
      " [ 4]\n",
      " [ 5]\n",
      " [ 6]\n",
      " [ 7]\n",
      " [ 8]\n",
      " [ 9]\n",
      " [10]\n",
      " [11]\n",
      " [12]\n",
      " [13]\n",
      " [14]\n",
      " [15]\n",
      " [16]\n",
      " [17]\n",
      " [18]\n",
      " [19]\n",
      " [20]\n",
      " [21]\n",
      " [22]\n",
      " [23]\n",
      " [24]\n",
      " [25]\n",
      " [26]\n",
      " [27]\n",
      " [28]\n",
      " [29]\n",
      " [30]\n",
      " [31]]\n"
     ]
    }
   ],
   "source": [
    "arr3 = arr3.reshape(32,1)\n",
    "print(arr3.shape)\n",
    "print(arr3)"
   ]
  },
  {
   "cell_type": "code",
   "execution_count": null,
   "id": "576b045e-9fd9-438c-9046-8a6d87e31609",
   "metadata": {},
   "outputs": [],
   "source": []
  }
 ],
 "metadata": {
  "kernelspec": {
   "display_name": "Python 3 (ipykernel)",
   "language": "python",
   "name": "python3"
  },
  "language_info": {
   "codemirror_mode": {
    "name": "ipython",
    "version": 3
   },
   "file_extension": ".py",
   "mimetype": "text/x-python",
   "name": "python",
   "nbconvert_exporter": "python",
   "pygments_lexer": "ipython3",
   "version": "3.12.4"
  }
 },
 "nbformat": 4,
 "nbformat_minor": 5
}
