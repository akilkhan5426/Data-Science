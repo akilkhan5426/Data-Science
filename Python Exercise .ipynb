{
 "cells": [
  {
   "cell_type": "markdown",
   "metadata": {},
   "source": [
    "# Python Exercise -Version Notebook"
   ]
  },
  {
   "cell_type": "markdown",
   "metadata": {},
   "source": []
  },
  {
   "cell_type": "markdown",
   "metadata": {},
   "source": [
    "## Question 1\n",
    "\n",
    "Write a program which accepts a sequence of comma separated 4 digit binary numbers as its input and then check whether they are divisible by 5 or not. The numbers that are divisible by 5 are to be printed in a comma separated sequence.\n",
    "\n",
    "Example:\n",
    "```\n",
    "0100,0011,1010,1001\n",
    "```\n",
    "Then the output should be:\n",
    "```\n",
    "1010\n",
    "```\n",
    "\n"
   ]
  },
  {
   "cell_type": "code",
   "execution_count": 1,
   "metadata": {},
   "outputs": [
    {
     "name": "stdin",
     "output_type": "stream",
     "text": [
      "Enter binary numbers with comma separated 101,001101,1111\n"
     ]
    },
    {
     "name": "stdout",
     "output_type": "stream",
     "text": [
      "['101', '1111']\n"
     ]
    }
   ],
   "source": [
    "binary_numbers = input(\"Enter binary numbers with comma separated\").split(\",\")\n",
    "\n",
    "def is_divisible_by_5(binary_str):\n",
    "    return int(binary_str,2) % 5 == 0\n",
    "\n",
    "result = [num for num in binary_numbers if is_divisible_by_5(num)]\n",
    "print(result)"
   ]
  },
  {
   "cell_type": "markdown",
   "metadata": {},
   "source": [
    "## Question 2\n",
    "\n",
    "Write a program, which will find all such numbers between 1000 and 3000 (both included) such that each digit of the number is an even number.\n",
    "The numbers obtained should be printed in a comma-separated sequence on a single line."
   ]
  },
  {
   "cell_type": "code",
   "execution_count": 2,
   "metadata": {},
   "outputs": [
    {
     "data": {
      "text/plain": [
       "11111010000"
      ]
     },
     "execution_count": 2,
     "metadata": {},
     "output_type": "execute_result"
    }
   ],
   "source": [
    " 1111101000\n",
    "11111010000"
   ]
  },
  {
   "cell_type": "code",
   "execution_count": 3,
   "metadata": {},
   "outputs": [
    {
     "name": "stdout",
     "output_type": "stream",
     "text": [
      "[2000, 2002, 2004, 2006, 2008, 2020, 2022, 2024, 2026, 2028, 2040, 2042, 2044, 2046, 2048, 2060, 2062, 2064, 2066, 2068, 2080, 2082, 2084, 2086, 2088, 2200, 2202, 2204, 2206, 2208, 2220, 2222, 2224, 2226, 2228, 2240, 2242, 2244, 2246, 2248, 2260, 2262, 2264, 2266, 2268, 2280, 2282, 2284, 2286, 2288, 2400, 2402, 2404, 2406, 2408, 2420, 2422, 2424, 2426, 2428, 2440, 2442, 2444, 2446, 2448, 2460, 2462, 2464, 2466, 2468, 2480, 2482, 2484, 2486, 2488, 2600, 2602, 2604, 2606, 2608, 2620, 2622, 2624, 2626, 2628, 2640, 2642, 2644, 2646, 2648, 2660, 2662, 2664, 2666, 2668, 2680, 2682, 2684, 2686, 2688, 2800, 2802, 2804, 2806, 2808, 2820, 2822, 2824, 2826, 2828, 2840, 2842, 2844, 2846, 2848, 2860, 2862, 2864, 2866, 2868, 2880, 2882, 2884, 2886, 2888]\n"
     ]
    }
   ],
   "source": [
    "# Method-01\n",
    "result = []\n",
    "for num in range(1000,3001):\n",
    "    n = str(num)\n",
    "    flag = True\n",
    "    for digit in n:\n",
    "        if int(digit)%2 != 0:\n",
    "            flag = False\n",
    "            break\n",
    "    if flag:\n",
    "        result.append(int(n))\n",
    "\n",
    "print(result)"
   ]
  },
  {
   "cell_type": "code",
   "execution_count": 4,
   "metadata": {},
   "outputs": [
    {
     "name": "stdout",
     "output_type": "stream",
     "text": [
      "[2000, 2002, 2004, 2006, 2008, 2020, 2022, 2024, 2026, 2028, 2040, 2042, 2044, 2046, 2048, 2060, 2062, 2064, 2066, 2068, 2080, 2082, 2084, 2086, 2088, 2200, 2202, 2204, 2206, 2208, 2220, 2222, 2224, 2226, 2228, 2240, 2242, 2244, 2246, 2248, 2260, 2262, 2264, 2266, 2268, 2280, 2282, 2284, 2286, 2288, 2400, 2402, 2404, 2406, 2408, 2420, 2422, 2424, 2426, 2428, 2440, 2442, 2444, 2446, 2448, 2460, 2462, 2464, 2466, 2468, 2480, 2482, 2484, 2486, 2488, 2600, 2602, 2604, 2606, 2608, 2620, 2622, 2624, 2626, 2628, 2640, 2642, 2644, 2646, 2648, 2660, 2662, 2664, 2666, 2668, 2680, 2682, 2684, 2686, 2688, 2800, 2802, 2804, 2806, 2808, 2820, 2822, 2824, 2826, 2828, 2840, 2842, 2844, 2846, 2848, 2860, 2862, 2864, 2866, 2868, 2880, 2882, 2884, 2886, 2888]\n"
     ]
    }
   ],
   "source": [
    "# Method-02\n",
    "def is_even_digit_number(str_num):\n",
    "    for dig in str_num:\n",
    "        if int(dig)%2 != 0:\n",
    "            return False\n",
    "    return True\n",
    "    \n",
    "res = [num for num in range(1000,3001) if is_even_digit_number(str(num))]\n",
    "print(res)"
   ]
  },
  {
   "cell_type": "markdown",
   "metadata": {},
   "source": [
    "## Question 3\n",
    "\n",
    "Write a program that accepts a sentence and calculate the number of letters and digits.\n",
    "Suppose the following input is supplied to the program:\n",
    "```\n",
    "hello world! 123\n",
    "```\n",
    "Then, the output should be:\n",
    "```\n",
    "LETTERS 10\n",
    "DIGITS 3\n",
    "```"
   ]
  },
  {
   "cell_type": "code",
   "execution_count": 5,
   "metadata": {},
   "outputs": [
    {
     "name": "stdin",
     "output_type": "stream",
     "text": [
      "Enter a sentence:  hello world 1234212\n"
     ]
    },
    {
     "name": "stdout",
     "output_type": "stream",
     "text": [
      "Letters: 10\n",
      "Digits: 7\n"
     ]
    }
   ],
   "source": [
    "sentence = input(\"Enter a sentence: \").lower()\n",
    "letters = 0\n",
    "digits = 0\n",
    "for ch in sentence:\n",
    "    ascii_val = ord(ch) # here ord() function returns the ascii value of character\n",
    "    if ascii_val>=48 and ascii_val<=56:\n",
    "        digits += 1\n",
    "    elif ascii_val>=65 and ascii_val<=90:\n",
    "        letters += 1\n",
    "    elif ascii_val>=97 and ascii_val<=122:\n",
    "        letters += 1\n",
    "\n",
    "print(\"Letters:\",letters)\n",
    "print(\"Digits:\",digits)"
   ]
  },
  {
   "cell_type": "code",
   "execution_count": null,
   "metadata": {},
   "outputs": [],
   "source": []
  },
  {
   "cell_type": "markdown",
   "metadata": {},
   "source": [
    "## Question 4\n",
    "\n",
    "Write a program that accepts a sentence and calculate the number of upper case letters and lower case letters.\n",
    "Suppose the following input is supplied to the program:\n",
    "```\n",
    "Hello world!\n",
    "```\n",
    "Then, the output should be:\n",
    "```\n",
    "UPPER CASE 1\n",
    "LOWER CASE 9\n",
    "```"
   ]
  },
  {
   "cell_type": "code",
   "execution_count": 6,
   "metadata": {},
   "outputs": [
    {
     "name": "stdin",
     "output_type": "stream",
     "text": [
      "Enter a sentence:  Heloow akh \n"
     ]
    },
    {
     "name": "stdout",
     "output_type": "stream",
     "text": [
      "Upper Case: 1\n",
      "Lower Case: 8\n"
     ]
    }
   ],
   "source": [
    "sentence = input(\"Enter a sentence: \")\n",
    "uppers = 0\n",
    "lowers = 0\n",
    "for ch in sentence:\n",
    "    ascii_val = ord(ch) # here ord() function returns the ascii value of character\n",
    "    if ascii_val>=65 and ascii_val<=90:\n",
    "        uppers += 1\n",
    "    elif ascii_val>=97 and ascii_val<=122:\n",
    "        lowers += 1\n",
    "\n",
    "print(\"Upper Case:\",uppers)\n",
    "print(\"Lower Case:\",lowers)"
   ]
  },
  {
   "cell_type": "markdown",
   "metadata": {},
   "source": [
    "## Question 5\n",
    "\n",
    "Write a program that computes the value of a+aa+aaa+aaaa with a given digit as the value of a.\n",
    "Suppose the following input is supplied to the program:\n",
    "```\n",
    "9\n",
    "```\n",
    "Then, the output should be:\n",
    "```\n",
    "11106\n",
    "```\n"
   ]
  },
  {
   "cell_type": "code",
   "execution_count": 7,
   "metadata": {},
   "outputs": [
    {
     "name": "stdin",
     "output_type": "stream",
     "text": [
      "Enter a number: 9\n"
     ]
    },
    {
     "name": "stdout",
     "output_type": "stream",
     "text": [
      "11106\n"
     ]
    }
   ],
   "source": [
    "a = int(input(\"Enter a number:\"))\n",
    "num = a\n",
    "sum = 0\n",
    "for i in range(1,5):\n",
    "    sum += num\n",
    "    num = num*10 + a\n",
    "    \n",
    "print(sum)"
   ]
  },
  {
   "cell_type": "markdown",
   "metadata": {},
   "source": [
    "## Question 6\n",
    "\n",
    "Use a list comprehension to select each odd number in a list. The list is input by a sequence of comma-separated numbers.\n",
    "Suppose the following input is supplied to the program:\n",
    "```\n",
    "1,2,3,4,5,6,7,8,9\n",
    "```\n",
    "Then, the output should be:\n",
    "```\n",
    "1,3,5,7,9\n",
    "```\n"
   ]
  },
  {
   "cell_type": "code",
   "execution_count": 8,
   "metadata": {},
   "outputs": [
    {
     "name": "stdin",
     "output_type": "stream",
     "text": [
      "Enter numbers with comma separated: 1,2,3,4,5,6,7,8,8,7,11,5,5,4\n"
     ]
    },
    {
     "name": "stdout",
     "output_type": "stream",
     "text": [
      "[1, 3, 5, 7, 7, 11, 5, 5]\n"
     ]
    }
   ],
   "source": [
    "numbers = input(\"Enter numbers with comma separated:\").split(',')\n",
    "odd_numbers = [int(num) for num in numbers if int(num)%2 != 0]\n",
    "print(odd_numbers)"
   ]
  },
  {
   "cell_type": "markdown",
   "metadata": {},
   "source": [
    "## Question 7\n",
    "\n",
    "Question:\n",
    "Write a program that computes the net amount of a bank account based a transaction log from console input. The transaction log format is shown as following:\n",
    "```\n",
    "D 100\n",
    "W 200\n",
    "```\n",
    "D means deposit while W means withdrawal.\n",
    "Suppose the following input is supplied to the program:\n",
    "```\n",
    "D 300\n",
    "D 300\n",
    "W 200\n",
    "D 100\n",
    "\n",
    "```\n",
    "Then, the output should be:\n",
    "```\n",
    "500\n",
    "```"
   ]
  },
  {
   "cell_type": "code",
   "execution_count": 12,
   "metadata": {},
   "outputs": [
    {
     "name": "stdout",
     "output_type": "stream",
     "text": [
      "Enter exit to exit:\n"
     ]
    },
    {
     "name": "stdin",
     "output_type": "stream",
     "text": [
      "Enter transaction: D 300\n",
      "Enter transaction: D 300\n",
      "Enter transaction: W 200\n",
      "Enter transaction: D 100\n",
      "Enter transaction: exit\n"
     ]
    },
    {
     "name": "stdout",
     "output_type": "stream",
     "text": [
      "Net Amount: 500\n"
     ]
    }
   ],
   "source": [
    "transaction = \" \"\n",
    "net_amt = 0\n",
    "print(\"Enter exit to exit:\")\n",
    "while(transaction[0] != \"exit\"):\n",
    "    transaction = input(\"Enter transaction:\").split()\n",
    "    if(transaction[0] == \"D\"):\n",
    "        net_amt += int(transaction[1])\n",
    "    if(transaction[0] == \"W\"):\n",
    "        net_amt -= int(transaction[1])\n",
    "\n",
    "print(\"Net Amount:\",net_amt)"
   ]
  },
  {
   "cell_type": "markdown",
   "metadata": {},
   "source": [
    "## Question 8\n",
    "A website requires the users to input username and password to register. Write a program to check the validity of password input by users.\n",
    "Following are the criteria for checking the password:\n",
    "1. At least 1 letter between [a-z]\n",
    "2. At least 1 number between [0-9]\n",
    "1. At least 1 letter between [A-Z]\n",
    "3. At least 1 character from [$#@]\n",
    "4. Minimum length of transaction password: 6\n",
    "5. Maximum length of transaction password: 12\n",
    "\n",
    "Your program should accept a sequence of comma separated passwords and will check them according to the above criteria. Passwords that match the criteria are to be printed, each separated by a comma.\n",
    "\n",
    "If the following passwords are given as input to the program:\n",
    "\n",
    "```\n",
    "ABd1234@1,a F1#,2w3E*,2We3345\n",
    "```\n",
    "Then, the output of the program should be:\n",
    "```\n",
    "ABd1234@1\n",
    "\n",
    "```"
   ]
  },
  {
   "cell_type": "code",
   "execution_count": 36,
   "metadata": {},
   "outputs": [
    {
     "name": "stdin",
     "output_type": "stream",
     "text": [
      "Enter passwords separate with comma ABd1234@1,a F1#,2w3E*,2We3345\n"
     ]
    },
    {
     "name": "stdout",
     "output_type": "stream",
     "text": [
      "ABd1234@1, "
     ]
    }
   ],
   "source": [
    "passwords = input(\"Enter passwords separate with comma\").split(',')\n",
    "\n",
    "small_letters = {'a','b','c','d','e','f','g','h','i','j','k','l','m','n','o','p','q','r','s','t','u','v','w','x','y','z'}\n",
    "capital_letters = {'A','B','C','D','E','F','G','H','I','J','K','L','M','N','O','P','Q','L','S','T','U','V','W','X','Y','Z'}\n",
    "digits = {'0','1','2','3','4','5','6','7','8','9'}\n",
    "spl_chars = {'$','#','@'}\n",
    "\n",
    "# validators = small_letters | capital_letters | digits | spl_chars\n",
    "\n",
    "for password in passwords:\n",
    "    if len(password)>=6 and len(password)<=12:\n",
    "        password_set = set(password)\n",
    "        if len(password_set & small_letters) > 0:\n",
    "            if len(password_set & capital_letters) > 0:\n",
    "                if len(password_set & digits) > 0:\n",
    "                    if len(password_set & spl_chars) > 0:\n",
    "                        print(password,end=', ')\n",
    "        "
   ]
  },
  {
   "cell_type": "code",
   "execution_count": 34,
   "metadata": {},
   "outputs": [
    {
     "name": "stdin",
     "output_type": "stream",
     "text": [
      "Enter passwords separate with comma ABd1234@1,a F1#,2w3E*,2We3345\n"
     ]
    },
    {
     "name": "stdout",
     "output_type": "stream",
     "text": [
      "ABd1234@1, "
     ]
    }
   ],
   "source": [
    "passwords = input(\"Enter passwords separate with comma\").split(',')\n",
    "\n",
    "small_letters = {'a','b','c','d','e','f','g','h','i','j','k','l','m','n','o','p','q','r','s','t','u','v','w','x','y','z'}\n",
    "capital_letters = {'A','B','C','D','E','F','G','H','I','J','K','L','M','N','O','P','Q','L','S','T','U','V','W','X','Y','Z'}\n",
    "digits = {'0','1','2','3','4','5','6','7','8','9'}\n",
    "spl_chars = {'$','#','@'}\n",
    "\n",
    "# validators = small_letters | capital_letters | digits | spl_chars\n",
    "\n",
    "for password in passwords:\n",
    "    if len(password)>=6 and len(password)<=12:\n",
    "        password_set = set(password)\n",
    "        if len(password_set & small_letters)>0 and len(password_set & capital_letters)>0 and len(password_set & digits)>0 and len(password_set & spl_chars)>0:\n",
    "            print(password,end=', ')\n",
    "        "
   ]
  },
  {
   "cell_type": "markdown",
   "metadata": {},
   "source": [
    "## Question 9\n",
    "\n",
    "You are required to write a program to sort the (name, age, height) tuples by ascending order where name is string, age and height are numbers. The tuples are input by console. The sort criteria is:\n",
    "1: Sort based on name;\n",
    "2: Then sort based on age;\n",
    "3: Then sort by score.\n",
    "The priority is that name > age > score.\n",
    "If the following tuples are given as input to the program:\n",
    "\n",
    "```\n",
    "Tom,19,80\n",
    "John,20,90\n",
    "Jony,17,91\n",
    "Jony,17,93\n",
    "Json,21,85\n",
    "```\n",
    "Then, the output should be:\n",
    "```\n",
    "[('John', '20', '90'), ('Jony', '17', '91'), ('Jony', '17', '93'), ('Json', '21', '85'), ('Tom', '19', '80')]\n",
    "```\n"
   ]
  },
  {
   "cell_type": "code",
   "execution_count": 47,
   "metadata": {},
   "outputs": [
    {
     "name": "stdout",
     "output_type": "stream",
     "text": [
      "[('John', '20', '90'), ('Jony', '17', '91'), ('Jony', '17', '93'), ('Json', '21', '85'), ('Tom', '19', '80')]\n"
     ]
    }
   ],
   "source": [
    "list = [('Jony', '17', '91'), ('John', '20', '90'), ('Jony', '17', '93'), ('Json', '21', '85'), ('Tom', '19', '80')]\n",
    "list.sort(key=lambda x: (x[0], int(x[1]), int(x[2])))\n",
    "print(list)"
   ]
  }
 ],
 "metadata": {
  "kernelspec": {
   "display_name": "Python 3 (ipykernel)",
   "language": "python",
   "name": "python3"
  },
  "language_info": {
   "codemirror_mode": {
    "name": "ipython",
    "version": 3
   },
   "file_extension": ".py",
   "mimetype": "text/x-python",
   "name": "python",
   "nbconvert_exporter": "python",
   "pygments_lexer": "ipython3",
   "version": "3.12.4"
  }
 },
 "nbformat": 4,
 "nbformat_minor": 4
}
