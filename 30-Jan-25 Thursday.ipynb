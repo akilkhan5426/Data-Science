{
 "cells": [
  {
   "cell_type": "markdown",
   "id": "c2ce8fd1-fac9-41ea-a672-7c3beb996724",
   "metadata": {},
   "source": [
    "# Integrating Pythonn and SQL"
   ]
  },
  {
   "cell_type": "markdown",
   "id": "e3172ead-1589-4fdc-bb2f-58e8b08497c6",
   "metadata": {},
   "source": [
    "## Step-01 Install the required libraries"
   ]
  },
  {
   "cell_type": "code",
   "execution_count": 1,
   "id": "9af8dc64-7f54-4f81-aaf3-d296963eae07",
   "metadata": {},
   "outputs": [
    {
     "name": "stdout",
     "output_type": "stream",
     "text": [
      "Collecting pymysqlNote: you may need to restart the kernel to use updated packages.\n",
      "\n",
      "  Downloading PyMySQL-1.1.1-py3-none-any.whl.metadata (4.4 kB)\n",
      "Downloading PyMySQL-1.1.1-py3-none-any.whl (44 kB)\n",
      "   ---------------------------------------- 0.0/45.0 kB ? eta -:--:--\n",
      "   ------------------ --------------------- 20.5/45.0 kB 330.3 kB/s eta 0:00:01\n",
      "   ------------------ --------------------- 20.5/45.0 kB 330.3 kB/s eta 0:00:01\n",
      "   ---------------------------------------- 45.0/45.0 kB 246.3 kB/s eta 0:00:00\n",
      "Installing collected packages: pymysql\n",
      "Successfully installed pymysql-1.1.1\n"
     ]
    }
   ],
   "source": [
    "pip install pymysql"
   ]
  },
  {
   "cell_type": "markdown",
   "id": "1093c5ef-33ff-44bb-877d-17cb272ceebd",
   "metadata": {},
   "source": [
    "## Step-02 Import required libraries"
   ]
  },
  {
   "cell_type": "code",
   "execution_count": 2,
   "id": "4c742e40-772f-4299-a823-99741359a985",
   "metadata": {},
   "outputs": [],
   "source": [
    "import pymysql\n",
    "import pandas as pd"
   ]
  },
  {
   "cell_type": "code",
   "execution_count": 4,
   "id": "f5abdc5f-9ba5-434f-aa38-92b3f8cd981d",
   "metadata": {},
   "outputs": [],
   "source": [
    "connection = pymysql.connect(\n",
    "    host = 'localhost', # replace with your host\n",
    "    user = 'root', # replace with your username\n",
    "    password = '#6han', # replace with your password\n",
    "    database = 'sql_exercises' # replace with your database \n",
    ")\n",
    "\n",
    "cursor = connection.cursor()"
   ]
  },
  {
   "cell_type": "markdown",
   "id": "1615b4ff-cb58-4652-a11e-cd1f6f009c00",
   "metadata": {},
   "source": [
    "## Step-03 Execute Queries and Fetch Data"
   ]
  },
  {
   "cell_type": "code",
   "execution_count": 7,
   "id": "093d8534-c713-4dcd-8f7f-be2660243eb5",
   "metadata": {},
   "outputs": [
    {
     "data": {
      "text/html": [
       "<div>\n",
       "<style scoped>\n",
       "    .dataframe tbody tr th:only-of-type {\n",
       "        vertical-align: middle;\n",
       "    }\n",
       "\n",
       "    .dataframe tbody tr th {\n",
       "        vertical-align: top;\n",
       "    }\n",
       "\n",
       "    .dataframe thead th {\n",
       "        text-align: right;\n",
       "    }\n",
       "</style>\n",
       "<table border=\"1\" class=\"dataframe\">\n",
       "  <thead>\n",
       "    <tr style=\"text-align: right;\">\n",
       "      <th></th>\n",
       "      <th>employee_id</th>\n",
       "      <th>emp_name</th>\n",
       "      <th>email</th>\n",
       "      <th>national_identity_number</th>\n",
       "      <th>salary</th>\n",
       "      <th>department_id</th>\n",
       "      <th>hire_year</th>\n",
       "    </tr>\n",
       "  </thead>\n",
       "  <tbody>\n",
       "    <tr>\n",
       "      <th>0</th>\n",
       "      <td>101</td>\n",
       "      <td>abc</td>\n",
       "      <td>23khan</td>\n",
       "      <td>12</td>\n",
       "      <td>30293</td>\n",
       "      <td>25</td>\n",
       "      <td>2000</td>\n",
       "    </tr>\n",
       "    <tr>\n",
       "      <th>1</th>\n",
       "      <td>102</td>\n",
       "      <td>akil</td>\n",
       "      <td>202331365.akil@ug.sharda.ac.in</td>\n",
       "      <td>13</td>\n",
       "      <td>35400</td>\n",
       "      <td>24</td>\n",
       "      <td>1995</td>\n",
       "    </tr>\n",
       "  </tbody>\n",
       "</table>\n",
       "</div>"
      ],
      "text/plain": [
       "   employee_id emp_name                           email  \\\n",
       "0          101      abc                          23khan   \n",
       "1          102     akil  202331365.akil@ug.sharda.ac.in   \n",
       "\n",
       "  national_identity_number  salary  department_id  hire_year  \n",
       "0                       12   30293             25       2000  \n",
       "1                       13   35400             24       1995  "
      ]
     },
     "execution_count": 7,
     "metadata": {},
     "output_type": "execute_result"
    }
   ],
   "source": [
    "# Select all records from the employee table\n",
    "select_query = 'select employee_id, emp_name, email, national_identity_number, salary, department_id, hire_year from employee'\n",
    "cursor.execute(select_query)\n",
    "rows = cursor.fetchall()\n",
    "\n",
    "df = pd.DataFrame(rows,columns=['employee_id', 'emp_name', 'email', 'national_identity_number', 'salary', 'department_id', 'hire_year'])\n",
    "df.head()"
   ]
  },
  {
   "cell_type": "markdown",
   "id": "cc322485-3d6a-45aa-950b-32feb7f942ca",
   "metadata": {},
   "source": [
    "## Step 4: Automate ETL Processes\r\n",
    "* Here's a simple ETL (Extract, Transform, Load) example:\r\n",
    "\r\n",
    "    * Extract data from the database\r\n",
    "    * Transform the data (e.g., increase salaries by 10%)\r\n",
    "    * Load the data back into the database (update salaries)"
   ]
  },
  {
   "cell_type": "code",
   "execution_count": 10,
   "id": "480a28a3-a5f9-430b-98d6-15c57ec00e8a",
   "metadata": {},
   "outputs": [
    {
     "data": {
      "text/html": [
       "<div>\n",
       "<style scoped>\n",
       "    .dataframe tbody tr th:only-of-type {\n",
       "        vertical-align: middle;\n",
       "    }\n",
       "\n",
       "    .dataframe tbody tr th {\n",
       "        vertical-align: top;\n",
       "    }\n",
       "\n",
       "    .dataframe thead th {\n",
       "        text-align: right;\n",
       "    }\n",
       "</style>\n",
       "<table border=\"1\" class=\"dataframe\">\n",
       "  <thead>\n",
       "    <tr style=\"text-align: right;\">\n",
       "      <th></th>\n",
       "      <th>employee_id</th>\n",
       "      <th>emp_name</th>\n",
       "      <th>email</th>\n",
       "      <th>national_identity_number</th>\n",
       "      <th>salary</th>\n",
       "      <th>department_id</th>\n",
       "      <th>hire_year</th>\n",
       "    </tr>\n",
       "  </thead>\n",
       "  <tbody>\n",
       "    <tr>\n",
       "      <th>0</th>\n",
       "      <td>101</td>\n",
       "      <td>abc</td>\n",
       "      <td>23khan</td>\n",
       "      <td>12</td>\n",
       "      <td>36654</td>\n",
       "      <td>25</td>\n",
       "      <td>2000</td>\n",
       "    </tr>\n",
       "    <tr>\n",
       "      <th>1</th>\n",
       "      <td>102</td>\n",
       "      <td>akil</td>\n",
       "      <td>202331365.akil@ug.sharda.ac.in</td>\n",
       "      <td>13</td>\n",
       "      <td>42834</td>\n",
       "      <td>24</td>\n",
       "      <td>1995</td>\n",
       "    </tr>\n",
       "  </tbody>\n",
       "</table>\n",
       "</div>"
      ],
      "text/plain": [
       "   employee_id emp_name                           email  \\\n",
       "0          101      abc                          23khan   \n",
       "1          102     akil  202331365.akil@ug.sharda.ac.in   \n",
       "\n",
       "  national_identity_number  salary  department_id  hire_year  \n",
       "0                       12   36654             25       2000  \n",
       "1                       13   42834             24       1995  "
      ]
     },
     "execution_count": 10,
     "metadata": {},
     "output_type": "execute_result"
    }
   ],
   "source": [
    "# Extract data\n",
    "extract_query = 'SELECT employee_id, salary FROM employee'\n",
    "cursor.execute(extract_query)\n",
    "employees = cursor.fetchall()\n",
    "\n",
    "# Transform data (increase salary by 10%)\n",
    "updated_salaries = [(salary * 1.10, emp_id) for emp_id, salary in employees]\n",
    "\n",
    "# Load data (update salaries in the database)\n",
    "update_query = 'UPDATE employee SET salary = %s WHERE employee_id = %s'\n",
    "cursor.executemany(update_query, updated_salaries)\n",
    "\n",
    "# Commit the changes\n",
    "# connection.commit()\n",
    "\n",
    "# Verify the update\n",
    "cursor.execute(select_query)\n",
    "rows = cursor.fetchall()\n",
    "\n",
    "# Convert to a DataFrame for better readability\n",
    "df = pd.DataFrame(rows,columns=['employee_id', 'emp_name', 'email', 'national_identity_number', 'salary', 'department_id', 'hire_year'])\n",
    "df.head()"
   ]
  },
  {
   "cell_type": "markdown",
   "id": "07fa90ec-f9da-4f26-8e1c-0bf82daeaca4",
   "metadata": {},
   "source": [
    "# 5/02/2025 Thursday"
   ]
  },
  {
   "cell_type": "code",
   "execution_count": null,
   "id": "7004f41d-e8c5-45e0-8204-9868530bccef",
   "metadata": {},
   "outputs": [],
   "source": []
  },
  {
   "cell_type": "code",
   "execution_count": null,
   "id": "b30d2a36-711b-4ee0-88c6-9c10bab61fa6",
   "metadata": {},
   "outputs": [],
   "source": []
  }
 ],
 "metadata": {
  "kernelspec": {
   "display_name": "Python 3 (ipykernel)",
   "language": "python",
   "name": "python3"
  },
  "language_info": {
   "codemirror_mode": {
    "name": "ipython",
    "version": 3
   },
   "file_extension": ".py",
   "mimetype": "text/x-python",
   "name": "python",
   "nbconvert_exporter": "python",
   "pygments_lexer": "ipython3",
   "version": "3.12.4"
  }
 },
 "nbformat": 4,
 "nbformat_minor": 5
}
