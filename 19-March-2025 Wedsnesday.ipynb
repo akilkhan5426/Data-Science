{
 "cells": [
  {
   "cell_type": "markdown",
   "id": "4b28e902-6eb7-41de-9dd4-731da4dd7f18",
   "metadata": {},
   "source": [
    "-- Write a code in Python that prints the discounted price for each of the below-mentioned discounts;\n",
    "Suppose the price of the phone is 40000. Calculate the prices of this phone after providing 5%, 10%, 15%, and 20% discounts respectively."
   ]
  },
  {
   "cell_type": "code",
   "execution_count": 4,
   "id": "93557d0e-cffb-4219-8655-9ff27517f41e",
   "metadata": {},
   "outputs": [
    {
     "name": "stdout",
     "output_type": "stream",
     "text": [
      "Price after 5% discount: 38000.0\n",
      "Price after 10% discount: 36000.0\n",
      "Price after 15% discount: 34000.0\n",
      "Price after 20% discount: 32000.0\n"
     ]
    }
   ],
   "source": [
    "actual_price = 40000\n",
    "discounts = [5,10,15,20]\n",
    "def calculate_discount(x):\n",
    "    return actual_price*x/100\n",
    "\n",
    "\n",
    "for x in discounts:\n",
    "    discounted_price = actual_price-calculate_discount(x)\n",
    "    print(f\"Price after {x}% discount:\",discounted_price)"
   ]
  },
  {
   "cell_type": "markdown",
   "id": "419d0818-609c-4699-8fbf-d714ed95ebbd",
   "metadata": {},
   "source": [
    ". Write a code in Python that prints the discounted price of a mobile after providing any discount. Suppose the price of the phone is 40000."
   ]
  },
  {
   "cell_type": "code",
   "execution_count": 7,
   "id": "aa844c3f-23cf-4b9f-82d2-2178e9b91628",
   "metadata": {},
   "outputs": [
    {
     "name": "stdin",
     "output_type": "stream",
     "text": [
      "Enter discount: 5\n"
     ]
    },
    {
     "name": "stdout",
     "output_type": "stream",
     "text": [
      "Price after 5% discount: 38000.0\n"
     ]
    },
    {
     "name": "stdin",
     "output_type": "stream",
     "text": [
      "Enter discount: 10\n"
     ]
    },
    {
     "name": "stdout",
     "output_type": "stream",
     "text": [
      "Price after 10% discount: 36000.0\n"
     ]
    },
    {
     "name": "stdin",
     "output_type": "stream",
     "text": [
      "Enter discount: 15\n"
     ]
    },
    {
     "name": "stdout",
     "output_type": "stream",
     "text": [
      "Price after 15% discount: 34000.0\n"
     ]
    },
    {
     "name": "stdin",
     "output_type": "stream",
     "text": [
      "Enter discount: 20\n"
     ]
    },
    {
     "name": "stdout",
     "output_type": "stream",
     "text": [
      "Price after 20% discount: 32000.0\n"
     ]
    },
    {
     "name": "stdin",
     "output_type": "stream",
     "text": [
      "Enter discount: 25\n"
     ]
    },
    {
     "name": "stdout",
     "output_type": "stream",
     "text": [
      "Price after 25% discount: 30000.0\n"
     ]
    },
    {
     "name": "stdin",
     "output_type": "stream",
     "text": [
      "Enter discount: 30\n"
     ]
    },
    {
     "name": "stdout",
     "output_type": "stream",
     "text": [
      "Price after 30% discount: 28000.0\n"
     ]
    },
    {
     "name": "stdin",
     "output_type": "stream",
     "text": [
      "Enter discount: 35\n"
     ]
    },
    {
     "name": "stdout",
     "output_type": "stream",
     "text": [
      "Price after 35% discount: 26000.0\n"
     ]
    },
    {
     "name": "stdin",
     "output_type": "stream",
     "text": [
      "Enter discount: 40\n"
     ]
    },
    {
     "name": "stdout",
     "output_type": "stream",
     "text": [
      "Price after 40% discount: 24000.0\n"
     ]
    },
    {
     "name": "stdin",
     "output_type": "stream",
     "text": [
      "Enter discount: 45\n"
     ]
    },
    {
     "name": "stdout",
     "output_type": "stream",
     "text": [
      "Price after 45% discount: 22000.0\n"
     ]
    },
    {
     "name": "stdin",
     "output_type": "stream",
     "text": [
      "Enter discount: 50\n"
     ]
    },
    {
     "name": "stdout",
     "output_type": "stream",
     "text": [
      "Price after 50% discount: 20000.0\n"
     ]
    },
    {
     "name": "stdin",
     "output_type": "stream",
     "text": [
      "Enter discount: 55\n"
     ]
    },
    {
     "name": "stdout",
     "output_type": "stream",
     "text": [
      "Price after 55% discount: 18000.0\n"
     ]
    },
    {
     "name": "stdin",
     "output_type": "stream",
     "text": [
      "Enter discount: 60\n"
     ]
    },
    {
     "name": "stdout",
     "output_type": "stream",
     "text": [
      "Price after 60% discount: 16000.0\n"
     ]
    },
    {
     "name": "stdin",
     "output_type": "stream",
     "text": [
      "Enter discount: 65\n"
     ]
    },
    {
     "name": "stdout",
     "output_type": "stream",
     "text": [
      "Price after 65% discount: 14000.0\n"
     ]
    },
    {
     "name": "stdin",
     "output_type": "stream",
     "text": [
      "Enter discount: 70\n"
     ]
    },
    {
     "name": "stdout",
     "output_type": "stream",
     "text": [
      "Price after 70% discount: 12000.0\n"
     ]
    },
    {
     "name": "stdin",
     "output_type": "stream",
     "text": [
      "Enter discount: 75\n"
     ]
    },
    {
     "name": "stdout",
     "output_type": "stream",
     "text": [
      "Price after 75% discount: 10000.0\n"
     ]
    },
    {
     "name": "stdin",
     "output_type": "stream",
     "text": [
      "Enter discount: 80\n"
     ]
    },
    {
     "name": "stdout",
     "output_type": "stream",
     "text": [
      "Price after 80% discount: 8000.0\n"
     ]
    },
    {
     "name": "stdin",
     "output_type": "stream",
     "text": [
      "Enter discount: 85\n"
     ]
    },
    {
     "name": "stdout",
     "output_type": "stream",
     "text": [
      "Price after 85% discount: 6000.0\n"
     ]
    },
    {
     "name": "stdin",
     "output_type": "stream",
     "text": [
      "Enter discount: 90\n"
     ]
    },
    {
     "name": "stdout",
     "output_type": "stream",
     "text": [
      "Price after 90% discount: 4000.0\n"
     ]
    },
    {
     "name": "stdin",
     "output_type": "stream",
     "text": [
      "Enter discount: 95\n"
     ]
    },
    {
     "name": "stdout",
     "output_type": "stream",
     "text": [
      "Price after 95% discount: 2000.0\n"
     ]
    },
    {
     "name": "stdin",
     "output_type": "stream",
     "text": [
      "Enter discount: 100\n"
     ]
    },
    {
     "name": "stdout",
     "output_type": "stream",
     "text": [
      "Price after 100% discount: 0.0\n"
     ]
    },
    {
     "name": "stdin",
     "output_type": "stream",
     "text": [
      "Enter discount: exit\n"
     ]
    }
   ],
   "source": [
    "actual_price = 40000\n",
    "def calculate_discount(discount):\n",
    "    return actual_price*discount/100\n",
    "\n",
    "\n",
    "while True:\n",
    "    discount = input(\"Enter discount:\")\n",
    "    if(discount == \"exit\"):\n",
    "        break\n",
    "    discount = int(discount)\n",
    "    discounted_price = actual_price-calculate_discount(discount)\n",
    "    print(f\"Price after {discount}% discount:\",discounted_price)"
   ]
  },
  {
   "cell_type": "code",
   "execution_count": 10,
   "id": "96026642-091a-4d9f-86b1-46ba83a5377b",
   "metadata": {},
   "outputs": [
    {
     "name": "stdin",
     "output_type": "stream",
     "text": [
      "Enter number: 10\n"
     ]
    },
    {
     "name": "stdout",
     "output_type": "stream",
     "text": [
      "10 is an Even number\n"
     ]
    }
   ],
   "source": [
    "def check_even(n):\n",
    "    return True if n%2==0 else False\n",
    "\n",
    "n = int(input(\"Enter number:\"))\n",
    "print(f\"{n} is an Even number\") if check_even(n) else print(f\"{n} is not an Even number\")"
   ]
  },
  {
   "cell_type": "code",
   "execution_count": 22,
   "id": "6f233595-8a73-4362-89d1-b163ae2da31e",
   "metadata": {},
   "outputs": [
    {
     "name": "stdin",
     "output_type": "stream",
     "text": [
      "Enter number: 100\n"
     ]
    },
    {
     "name": "stdout",
     "output_type": "stream",
     "text": [
      "Factorial of 100: 93326215443944152681699238856266700490715968264381621468592963895217599993229915608941463976156518286253697920827223758251185210916864000000000000000000000000\n"
     ]
    }
   ],
   "source": [
    "def factorial(n):\n",
    "    return 1 if (n==0 or n==1) else n * factorial(n-1)\n",
    "\n",
    "n = int(input(\"Enter number:\"))\n",
    "print(f\"Factorial of {n}:\",factorial(n))"
   ]
  },
  {
   "cell_type": "markdown",
   "id": "ae2c3557-4660-484a-81d1-44db02468858",
   "metadata": {},
   "source": [
    "Print the square of each digit in a list:\n",
    "numbers = [1, 2, 3, 4, 5]------------------------Using map function"
   ]
  },
  {
   "cell_type": "code",
   "execution_count": 26,
   "id": "c7df9417-7e74-4b16-99ff-5fb79fe87096",
   "metadata": {},
   "outputs": [
    {
     "name": "stdout",
     "output_type": "stream",
     "text": [
      "[1, 4, 9, 16, 25]\n"
     ]
    }
   ],
   "source": [
    "numbers = [1,2,3,4,5]\n",
    "square = map(lambda x: x**2,numbers)\n",
    "print(list(square))"
   ]
  },
  {
   "cell_type": "markdown",
   "id": "2d43ceb1-7e36-4abb-970a-ef56df6f0c29",
   "metadata": {},
   "source": [
    "Print the even numbers in a list:\n",
    "numbers = [1, 2, 3, 4, 5, 6, 7, 8, 9, 10]---------------------------------Using filter function"
   ]
  },
  {
   "cell_type": "code",
   "execution_count": 28,
   "id": "69c090a7-7f86-41e0-b14d-951db1036783",
   "metadata": {},
   "outputs": [
    {
     "name": "stdout",
     "output_type": "stream",
     "text": [
      "[2, 4, 6, 8]\n"
     ]
    }
   ],
   "source": [
    "numbers = [1,2,3,4,5,6,7,8,9]\n",
    "evens = filter(lambda x: x%2==0,numbers)\n",
    "print(list(evens))"
   ]
  },
  {
   "cell_type": "markdown",
   "id": "6dbe72c7-e9a9-4bd0-bc30-f829a187d5f8",
   "metadata": {},
   "source": [
    "Multiply all the numbers in a list:\n",
    "numbers = [1, 2.8, 3, 4, 5,17,2]----------------------------------Using reduce function"
   ]
  },
  {
   "cell_type": "code",
   "execution_count": 31,
   "id": "6461c8e3-83a1-4119-9b33-6c971ef252f1",
   "metadata": {},
   "outputs": [
    {
     "name": "stdout",
     "output_type": "stream",
     "text": [
      "5711.999999999999\n"
     ]
    }
   ],
   "source": [
    "from functools import reduce\n",
    "numbers = [1,2.8,3,4,5,17,2]\n",
    "multiply = reduce((lambda mul,x: mul*x),numbers) \n",
    "print(multiply)"
   ]
  },
  {
   "cell_type": "markdown",
   "id": "1a338327-a411-46d3-a88b-ae28bbe2c72f",
   "metadata": {},
   "source": [
    "1.Write a Python program to calculate the value of 'a' to the power of 'b' using recursion.\\\n",
    "2.Write a Python function to create and print a list where the values are the squares of numbers between 1 and 30 \\\n",
    "3.Write a Python program to create a dictionary from two lists without losing duplicate values.\\\n",
    "Sample lists: ['Class-V', 'Class-VI', 'Class-VII', 'Class-VIII'], [1, 2, 2, 3]\\\n",
    "Expected Output: defaultdict(<class 'set'>, {'Class-V': {1}, 'Class-VI': {2}, 'Class-VII': {2}, 'Class-VIII': {3}})"
   ]
  },
  {
   "cell_type": "code",
   "execution_count": 51,
   "id": "fa1a8a50-c4ea-4586-aa99-d1f50ca73ba6",
   "metadata": {},
   "outputs": [
    {
     "name": "stdout",
     "output_type": "stream",
     "text": [
      "1024\n"
     ]
    }
   ],
   "source": [
    "def power(a,b):\n",
    "    return a if b==1 else a*power(a,b-1)\n",
    "\n",
    "print(power(2,10))"
   ]
  },
  {
   "cell_type": "code",
   "execution_count": 33,
   "id": "55fe5338-624a-4d31-82a9-41f48ee7d9bc",
   "metadata": {},
   "outputs": [
    {
     "name": "stdout",
     "output_type": "stream",
     "text": [
      "[1, 4, 9, 16, 25, 36, 49, 64, 81, 100, 121, 144, 169, 196, 225, 256, 289, 324, 361, 400, 441, 484, 529, 576, 625, 676, 729, 784, 841, 900]\n"
     ]
    }
   ],
   "source": [
    "squares = map(lambda x: x**2,range(1,31))\n",
    "print(list(squares))"
   ]
  },
  {
   "cell_type": "code",
   "execution_count": 42,
   "id": "c30904c8-768d-44bd-a96e-5b4a04964493",
   "metadata": {},
   "outputs": [
    {
     "name": "stdout",
     "output_type": "stream",
     "text": [
      "{'Class-V': 1, 'Class-VI': 2, 'Class-VII': 2, 'Class-VIII': 3}\n"
     ]
    }
   ],
   "source": [
    "l1 = ['Class-V', 'Class-VI', 'Class-VII', 'Class-VIII']\n",
    "l2 = [1, 2, 2, 3]\n",
    "my_dict = dict(zip(l1,l2))\n",
    "print(my_dict)"
   ]
  },
  {
   "cell_type": "code",
   "execution_count": null,
   "id": "fcd8620a-d053-4555-9493-b2af808a476f",
   "metadata": {},
   "outputs": [],
   "source": []
  }
 ],
 "metadata": {
  "kernelspec": {
   "display_name": "Python 3 (ipykernel)",
   "language": "python",
   "name": "python3"
  },
  "language_info": {
   "codemirror_mode": {
    "name": "ipython",
    "version": 3
   },
   "file_extension": ".py",
   "mimetype": "text/x-python",
   "name": "python",
   "nbconvert_exporter": "python",
   "pygments_lexer": "ipython3",
   "version": "3.12.4"
  }
 },
 "nbformat": 4,
 "nbformat_minor": 5
}
