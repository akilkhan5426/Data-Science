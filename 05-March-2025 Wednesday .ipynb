{
 "cells": [
  {
   "cell_type": "code",
   "execution_count": 1,
   "id": "8f1e9c57-59d2-412d-b8dd-912ecf8e54ee",
   "metadata": {},
   "outputs": [
    {
     "name": "stdin",
     "output_type": "stream",
     "text": [
      "Type your budget:  50550\n"
     ]
    },
    {
     "name": "stdout",
     "output_type": "stream",
     "text": [
      "Yeah, you can buy the mobile phone\n"
     ]
    }
   ],
   "source": [
    "budget = int(input(\"Type your budget: \"))\n",
    "price = 30000\n",
    "if(budget >= price):\n",
    "    print(\"Yeah, you can buy the mobile phone\")\n",
    "else:\n",
    "    print(\"Sorry, you cannot buy this mobile phone\")"
   ]
  },
  {
   "cell_type": "code",
   "execution_count": 5,
   "id": "a0c97b53-bcf8-4ab8-a94e-78103e2db02b",
   "metadata": {},
   "outputs": [
    {
     "name": "stdin",
     "output_type": "stream",
     "text": [
      "Write internal storage to know the price: 2\n"
     ]
    },
    {
     "name": "stdout",
     "output_type": "stream",
     "text": [
      "Sorry, we do not have any stock for this 2\n"
     ]
    }
   ],
   "source": [
    "storage = int(input(\"Write internal storage to know the price:\"))\n",
    "if(storage==32):\n",
    "    print(f\"Price for {storage}GB phone is: 15000\")\n",
    "elif(storage==64):\n",
    "    print(f\"Price for {storage}GB phone is: 20000\")\n",
    "elif(storage==128):\n",
    "    print(f\"Price for {storage}GB phone is: 30000\")\n",
    "elif(storage==256):\n",
    "    print(f\"Price for {storage}GB phone is: 40000\")\n",
    "else:\n",
    "    print(f\"Sorry, we do not have any stock for this {storage}\")"
   ]
  },
  {
   "cell_type": "code",
   "execution_count": 7,
   "id": "1263ab36-702b-4787-a2ca-fead46270f06",
   "metadata": {},
   "outputs": [
    {
     "name": "stdin",
     "output_type": "stream",
     "text": [
      "Enter your score for 1st round: 60\n"
     ]
    },
    {
     "name": "stdout",
     "output_type": "stream",
     "text": [
      "Sorry!, you are not eleigible for 2nd round\n"
     ]
    }
   ],
   "source": [
    "score1 = int(input(\"Enter your score for 1st round:\"))\n",
    "if(score1 > 80):\n",
    "    print(\"Congrats!, you are eleigible for 2nd round\")\n",
    "    score2 = int(input(\"Enter your score for 2nd round:\"))\n",
    "    if(score2 > 70):\n",
    "        print(\"Congrats!, you are eleigible for 3rd round\")\n",
    "        score3 = int(input(\"Enter your score for 3rd round:\"))\n",
    "        if(score3 > 60):\n",
    "            print(\"Congrats!, you are SELECTED\")\n",
    "        else:    \n",
    "            print(\"Sorry!, you are not SELECTED\")\n",
    "    else:    \n",
    "        print(\"Sorry!, you are not eleigible for 3rd round\")\n",
    "else:\n",
    "    print(\"Sorry!, you are not eleigible for 2nd round\")"
   ]
  },
  {
   "cell_type": "code",
   "execution_count": 8,
   "id": "f1f3f2c1-130c-45e1-b466-77e90b0cc586",
   "metadata": {},
   "outputs": [
    {
     "name": "stdin",
     "output_type": "stream",
     "text": [
      "Enter your marks 56\n"
     ]
    },
    {
     "name": "stdout",
     "output_type": "stream",
     "text": [
      "Group3\n"
     ]
    }
   ],
   "source": [
    "marks = int(input(\"Enter your marks\"))\n",
    "if(marks >= 80):\n",
    "    print(\"Group1\")\n",
    "elif(marks >= 60 and marks < 80):\n",
    "    print(\"Group2\")\n",
    "elif(marks >= 40 and marks < 60):\n",
    "    print(\"Group3\")\n",
    "else:\n",
    "    print(\"You are not the part of any group\")"
   ]
  },
  {
   "cell_type": "code",
   "execution_count": 11,
   "id": "00fda71d-5e40-40aa-96e5-7986fb8c7a14",
   "metadata": {},
   "outputs": [
    {
     "name": "stdin",
     "output_type": "stream",
     "text": [
      "Enter your username: admin\n",
      "Enter admin password: 12345\n"
     ]
    },
    {
     "name": "stdout",
     "output_type": "stream",
     "text": [
      "login successful\n"
     ]
    }
   ],
   "source": [
    "username = input(\"Enter your username:\")\n",
    "# password = input(\"Enter your password:\")\n",
    "if(username == \"admin\"):\n",
    "    password = input(\"Enter admin password:\")\n",
    "    if(password != '12345'):\n",
    "        print(\"Incorrect password\")\n",
    "    else:\n",
    "        print(\"login successful\")\n",
    "elif(username == \"incorrect\"):\n",
    "    print(\"Incorrect username\")"
   ]
  },
  {
   "cell_type": "code",
   "execution_count": 12,
   "id": "aed26fc9-a209-4ab1-8553-c8e5d8e76e12",
   "metadata": {},
   "outputs": [
    {
     "name": "stdout",
     "output_type": "stream",
     "text": [
      "Price after 5% discount: 38000.0\n",
      "Price after 10% discount: 36000.0\n",
      "Price after 15% discount: 34000.0\n",
      "Price after 20% discount: 32000.0\n"
     ]
    }
   ],
   "source": [
    "price = 40000\n",
    "print(\"Without using loop\")\n",
    "discount_5 = price - (5*price/100)\n",
    "print(\"Price after 5% discount:\",discount_5)\n",
    "discount_10 = price - (10*price/100)\n",
    "print(\"Price after 10% discount:\",discount_10)\n",
    "discount_15 = price - (15*price/100)\n",
    "print(\"Price after 15% discount:\",discount_15)\n",
    "discount_20 = price - (20*price/100)\n",
    "print(\"Price after 20% discount:\",discount_20)"
   ]
  },
  {
   "cell_type": "code",
   "execution_count": 13,
   "id": "816bc0f8-9db6-49c9-a883-730bd3c3221e",
   "metadata": {},
   "outputs": [
    {
     "name": "stdout",
     "output_type": "stream",
     "text": [
      "Without using loop\n",
      "Price after 5% discount: 38000.0\n",
      "Price after 10% discount: 36000.0\n",
      "Price after 15% discount: 34000.0\n",
      "Price after 20% discount: 32000.0\n"
     ]
    }
   ],
   "source": [
    "price = 40000\n",
    "print(\"Using for loop\")\n",
    "for disc in range(5,21,5):\n",
    "    disc_price = price - (disc*price/100)\n",
    "    print(f\"Price after {disc}% discount:\",disc_price)"
   ]
  },
  {
   "cell_type": "code",
   "execution_count": 14,
   "id": "4ff0653e-c9fa-4948-a365-885b38303815",
   "metadata": {},
   "outputs": [
    {
     "name": "stdout",
     "output_type": "stream",
     "text": [
      "With using while loop\n",
      "Price after 5% discount: 38000.0\n",
      "Price after 10% discount: 36000.0\n",
      "Price after 15% discount: 34000.0\n",
      "Price after 20% discount: 32000.0\n"
     ]
    }
   ],
   "source": [
    "price = 40000\n",
    "print(\"Using while loop\")\n",
    "disc = 5\n",
    "while(disc <= 20):\n",
    "    disc_price = price - (disc*price/100)\n",
    "    print(f\"Price after {disc}% discount:\",disc_price)\n",
    "    disc += 5"
   ]
  },
  {
   "cell_type": "code",
   "execution_count": null,
   "id": "2380a678-85fa-4ba9-808a-66949f57541d",
   "metadata": {},
   "outputs": [],
   "source": []
  }
 ],
 "metadata": {
  "kernelspec": {
   "display_name": "Python 3 (ipykernel)",
   "language": "python",
   "name": "python3"
  },
  "language_info": {
   "codemirror_mode": {
    "name": "ipython",
    "version": 3
   },
   "file_extension": ".py",
   "mimetype": "text/x-python",
   "name": "python",
   "nbconvert_exporter": "python",
   "pygments_lexer": "ipython3",
   "version": "3.12.4"
  }
 },
 "nbformat": 4,
 "nbformat_minor": 5
}
